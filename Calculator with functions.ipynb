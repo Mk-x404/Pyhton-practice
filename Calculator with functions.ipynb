{
 "cells": [
  {
   "cell_type": "code",
   "execution_count": 7,
   "id": "48f8cb26-56ca-456e-a5b0-83c12b80cd21",
   "metadata": {},
   "outputs": [
    {
     "name": "stdout",
     "output_type": "stream",
     "text": [
      "1 Add\n",
      "2 Subtract\n",
      "3 Multiply\n",
      "4 Divide\n",
      "5 Modulus\n",
      "6 Exponent\n",
      "7 Exit\n"
     ]
    },
    {
     "name": "stdin",
     "output_type": "stream",
     "text": [
      "Select your arithmetic operation (1-7):  6\n",
      "Enter the first number:  2\n",
      "Enter the second number:  3\n"
     ]
    },
    {
     "name": "stdout",
     "output_type": "stream",
     "text": [
      "Result: 8\n",
      "1 Add\n",
      "2 Subtract\n",
      "3 Multiply\n",
      "4 Divide\n",
      "5 Modulus\n",
      "6 Exponent\n",
      "7 Exit\n"
     ]
    },
    {
     "name": "stdin",
     "output_type": "stream",
     "text": [
      "Select your arithmetic operation (1-7):  7\n"
     ]
    },
    {
     "name": "stdout",
     "output_type": "stream",
     "text": [
      "Exiting calculator. Goodbye!\n"
     ]
    }
   ],
   "source": [
    "# Calculator\n",
    "\n",
    "def add(a, b):\n",
    "    print(\"Result:\", a + b)\n",
    "\n",
    "def sub(a, b):\n",
    "    print(\"Result:\", a - b)\n",
    "\n",
    "def multi(a, b):\n",
    "    print(\"Result:\", a * b)\n",
    "\n",
    "def div(a, b):\n",
    "    if b != 0:\n",
    "        print(\"Result:\", a / b)\n",
    "    else:\n",
    "        print(\"Error: Cannot divide by zero.\")\n",
    "\n",
    "def mod(a, b):\n",
    "    if b != 0:\n",
    "        print(\"Result:\", a % b)\n",
    "    else:\n",
    "        print(\"Error: Cannot perform modulus with zero.\")\n",
    "\n",
    "def sqrt(a, b):\n",
    "    print(\"Result:\", a ** b)\n",
    "\n",
    "while True:\n",
    "    menu = [\"Add\", \"Subtract\", \"Multiply\", \"Divide\", \"Modulus\",\"Exponent\", \"Exit\"]\n",
    "    for x, i in enumerate(menu):\n",
    "        print(x + 1, i)\n",
    "\n",
    "    # Error handling for menu choice\n",
    "    try:\n",
    "        user = int(input(\"Select your arithmetic operation (1-7): \"))\n",
    "    except ValueError:\n",
    "        print(\" Please enter a valid number from 1 to 7.\")\n",
    "        continue  # skip rest and restart loop\n",
    "\n",
    "    # Exit condition\n",
    "    if user == 7:\n",
    "        print(\"Exiting calculator. Goodbye!\")\n",
    "        break\n",
    "\n",
    "    # Check valid operation number\n",
    "    if user not in range(1, 7):\n",
    "        print(\" Invalid choice. Please choose between 1 and 7.\")\n",
    "        continue\n",
    "\n",
    "    # Input two numbers\n",
    "    try:\n",
    "        num1 = int(input(\"Enter the first number: \"))\n",
    "        num2 = int(input(\"Enter the second number: \"))\n",
    "    except ValueError:\n",
    "        print(\"Invalid input. Please enter numeric values only.\")\n",
    "        continue\n",
    "\n",
    "    # Call correct function\n",
    "    if user == 1:\n",
    "        add(num1, num2)\n",
    "    elif user == 2:\n",
    "        sub(num1, num2)\n",
    "    elif user == 3:\n",
    "        multi(num1, num2)\n",
    "    elif user == 4:\n",
    "        div(num1, num2)\n",
    "    elif user == 5:\n",
    "        mod(num1, num2)\n",
    "    elif user == 6:\n",
    "        sqrt(num1, num2)"
   ]
  },
  {
   "cell_type": "code",
   "execution_count": null,
   "id": "c64cc78e-e946-4a98-b188-7c7ae1549e49",
   "metadata": {},
   "outputs": [],
   "source": []
  }
 ],
 "metadata": {
  "kernelspec": {
   "display_name": "Python 3 (ipykernel)",
   "language": "python",
   "name": "python3"
  },
  "language_info": {
   "codemirror_mode": {
    "name": "ipython",
    "version": 3
   },
   "file_extension": ".py",
   "mimetype": "text/x-python",
   "name": "python",
   "nbconvert_exporter": "python",
   "pygments_lexer": "ipython3",
   "version": "3.12.7"
  }
 },
 "nbformat": 4,
 "nbformat_minor": 5
}
