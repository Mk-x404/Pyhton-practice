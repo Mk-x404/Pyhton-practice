{
 "cells": [
  {
   "cell_type": "code",
   "execution_count": 11,
   "id": "1cbc8103-9ce6-4cfa-ab69-db010d0cf667",
   "metadata": {},
   "outputs": [
    {
     "name": "stdout",
     "output_type": "stream",
     "text": [
      "    * \n",
      "   * * \n",
      "  * * * \n",
      " * * * * \n"
     ]
    }
   ],
   "source": [
    "# Right angle triangle :\n",
    "n = 5\n",
    "for x in range (1,n):\n",
    "    print(\" \"*(n-x),end= \"\")\n",
    "    print(\"* \"*x)\n",
    "    "
   ]
  },
  {
   "cell_type": "code",
   "execution_count": 24,
   "id": "301bd709-6479-4645-ad08-fb77ea5b61d6",
   "metadata": {},
   "outputs": [
    {
     "name": "stdout",
     "output_type": "stream",
     "text": [
      "    * \n",
      "   * * \n",
      "  * * * \n",
      " * * * * \n",
      "* * * * * \n",
      " * * * * \n",
      "  * * * \n",
      "   * * \n",
      "    * \n"
     ]
    }
   ],
   "source": [
    "n = 5\n",
    "for x in range (1,n):\n",
    "    print(\" \"*(n-x),end= \"\")\n",
    "    print(\"* \"*x) \n",
    "for x in range (5,0,-1):\n",
    "    print(\" \"*(n-x),end= \"\")\n",
    "    print(\"* \"*x)"
   ]
  },
  {
   "cell_type": "code",
   "execution_count": 5,
   "id": "283706dc-82c6-485d-a36e-5b8e5fc75b20",
   "metadata": {},
   "outputs": [
    {
     "name": "stdout",
     "output_type": "stream",
     "text": [
      "*\n",
      "**\n",
      "***\n",
      "****\n",
      "*****\n",
      "****\n",
      "***\n",
      "**\n",
      "*\n"
     ]
    }
   ],
   "source": [
    "n = 5\n",
    "for i in range (1,5):\n",
    "    print (\"*\"*i)\n",
    "for i in range (5,0,-1):\n",
    "    print(\"*\"*i)\n"
   ]
  },
  {
   "cell_type": "code",
   "execution_count": 3,
   "id": "4445fdd4-b7da-4c56-bab3-245d44de28f6",
   "metadata": {},
   "outputs": [
    {
     "name": "stdout",
     "output_type": "stream",
     "text": [
      "1\n",
      "2\n",
      "3\n",
      "4\n",
      "5\n"
     ]
    }
   ],
   "source": [
    "i = 1\n",
    "while i <= 5 :\n",
    "    print(i)\n",
    "    i +=1\n",
    "    "
   ]
  },
  {
   "cell_type": "code",
   "execution_count": null,
   "id": "ccaed781-1aab-4af2-bef7-23f47c4bf9b5",
   "metadata": {},
   "outputs": [],
   "source": []
  }
 ],
 "metadata": {
  "kernelspec": {
   "display_name": "Python [conda env:base] *",
   "language": "python",
   "name": "conda-base-py"
  },
  "language_info": {
   "codemirror_mode": {
    "name": "ipython",
    "version": 3
   },
   "file_extension": ".py",
   "mimetype": "text/x-python",
   "name": "python",
   "nbconvert_exporter": "python",
   "pygments_lexer": "ipython3",
   "version": "3.12.7"
  }
 },
 "nbformat": 4,
 "nbformat_minor": 5
}
