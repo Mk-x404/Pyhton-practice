{
 "cells": [
  {
   "cell_type": "code",
   "execution_count": 1,
   "id": "7222f5e7-f943-4503-bc51-aeb666f04453",
   "metadata": {},
   "outputs": [
    {
     "name": "stdout",
     "output_type": "stream",
     "text": [
      "0\n",
      "2\n",
      "4\n",
      "6\n",
      "8\n",
      "10\n",
      "12\n",
      "14\n",
      "16\n",
      "18\n",
      "20\n"
     ]
    }
   ],
   "source": [
    "# Even numbers from 1 to 20 :\n",
    "i = 0\n",
    "\n",
    "for i in range (0,21):\n",
    "    if i % 2 == 0:\n",
    "        print (i)"
   ]
  },
  {
   "cell_type": "code",
   "execution_count": 2,
   "id": "f3d2342e-f88b-4f0c-bb74-e939054a1e43",
   "metadata": {},
   "outputs": [
    {
     "name": "stdout",
     "output_type": "stream",
     "text": [
      "1\n",
      "3\n",
      "5\n",
      "7\n",
      "9\n",
      "11\n",
      "13\n",
      "15\n",
      "17\n",
      "19\n"
     ]
    }
   ],
   "source": [
    "# odd numbers from 1 to 20 :\n",
    "i = 0\n",
    "\n",
    "for i in range (0,21):\n",
    "    if i % 2 != 0:\n",
    "        print (i)"
   ]
  },
  {
   "cell_type": "code",
   "execution_count": 4,
   "id": "ae21a41d",
   "metadata": {},
   "outputs": [
    {
     "name": "stdout",
     "output_type": "stream",
     "text": [
      "0\n",
      "2\n",
      "4\n",
      "6\n",
      "8\n",
      "10\n",
      "12\n",
      "14\n",
      "16\n",
      "18\n",
      "20\n"
     ]
    }
   ],
   "source": [
    "# Using while loop printing even :\n",
    "i = 0\n",
    "while i < 21 :\n",
    "        print (i)\n",
    "        i += 2"
   ]
  },
  {
   "cell_type": "code",
   "execution_count": null,
   "id": "a26fdcc0",
   "metadata": {},
   "outputs": [
    {
     "name": "stdout",
     "output_type": "stream",
     "text": [
      "2\n",
      "4\n",
      "6\n",
      "8\n",
      "10\n",
      "12\n",
      "14\n",
      "16\n",
      "18\n",
      "20\n"
     ]
    }
   ],
   "source": [
    "# using if under while\n",
    "i = 1\n",
    "while i <= 20:\n",
    "    if i % 2 == 0:\n",
    "        print(i)\n",
    "    i += 1\n"
   ]
  },
  {
   "cell_type": "code",
   "execution_count": null,
   "id": "b5c98d02",
   "metadata": {},
   "outputs": [
    {
     "name": "stdout",
     "output_type": "stream",
     "text": [
      "m,u,h,i,b,"
     ]
    }
   ],
   "source": [
    "# Print strings :\n",
    "user = input(\"Enter anything : \")\n",
    "for i in  user :\n",
    "    print (i , end=\",\") # Whatever you write in end=\"...\" replaces the default newline."
   ]
  },
  {
   "cell_type": "code",
   "execution_count": 28,
   "id": "64b8c2d6",
   "metadata": {},
   "outputs": [
    {
     "name": "stdout",
     "output_type": "stream",
     "text": [
      "1 apple\n",
      "2 banana\n",
      "3 cherry\n",
      "4 mango\n"
     ]
    }
   ],
   "source": [
    "fruits = [\"apple\", \"banana\", \"cherry\", \"mango\"]\n",
    "\n",
    "no =   1\n",
    "for i in fruits :\n",
    "    print(no, i)\n",
    "\n",
    "    no += 1    "
   ]
  },
  {
   "cell_type": "code",
   "execution_count": 36,
   "id": "37dcaaf2",
   "metadata": {},
   "outputs": [
    {
     "name": "stdout",
     "output_type": "stream",
     "text": [
      "1\n",
      "4\n",
      "9\n",
      "16\n",
      "25\n",
      "36\n",
      "49\n",
      "64\n",
      "81\n",
      "144\n",
      "529\n",
      "1849\n",
      "3969\n",
      "144\n",
      "4489\n",
      "1764\n",
      "256\n",
      "6724\n"
     ]
    }
   ],
   "source": [
    "num = [1,2,3,4,5,6,7,8,9,12,23,43,63,12,67,42,16,82]\n",
    "\n",
    "for i in num : \n",
    "    print (i**2) # In list arthimetric operations will be done like this in print sec not with the list directly\n",
    "    "
   ]
  },
  {
   "cell_type": "code",
   "execution_count": null,
   "id": "e51ca254",
   "metadata": {},
   "outputs": [
    {
     "ename": "TypeError",
     "evalue": "unsupported operand type(s) for ** or pow(): 'str' and 'int'",
     "output_type": "error",
     "traceback": [
      "\u001b[31m---------------------------------------------------------------------------\u001b[39m",
      "\u001b[31mTypeError\u001b[39m                                 Traceback (most recent call last)",
      "\u001b[36mCell\u001b[39m\u001b[36m \u001b[39m\u001b[32mIn[40]\u001b[39m\u001b[32m, line 4\u001b[39m\n\u001b[32m      1\u001b[39m \u001b[38;5;66;03m# Print patterns : \u001b[39;00m\n\u001b[32m      2\u001b[39m \u001b[38;5;28;01mfor\u001b[39;00m i \u001b[38;5;129;01min\u001b[39;00m \u001b[38;5;28mrange\u001b[39m (\u001b[32m1\u001b[39m,\u001b[32m5\u001b[39m):\n\u001b[32m----> \u001b[39m\u001b[32m4\u001b[39m     \u001b[38;5;28mprint\u001b[39m (\u001b[33m\"\u001b[39m\u001b[33m*\u001b[39m\u001b[33m\"\u001b[39m**\u001b[32m2\u001b[39m)\n\u001b[32m      5\u001b[39m     i += \u001b[32m1\u001b[39m\n",
      "\u001b[31mTypeError\u001b[39m: unsupported operand type(s) for ** or pow(): 'str' and 'int'"
     ]
    }
   ],
   "source": [
    "# Print patterns : \n",
    "for i in range (1,5):\n",
    "\n",
    "    print (\"*\"2)\n",
    "    i += 1"
   ]
  },
  {
   "cell_type": "code",
   "execution_count": null,
   "id": "b49a272e",
   "metadata": {},
   "outputs": [],
   "source": []
  }
 ],
 "metadata": {
  "kernelspec": {
   "display_name": "base",
   "language": "python",
   "name": "python3"
  },
  "language_info": {
   "codemirror_mode": {
    "name": "ipython",
    "version": 3
   },
   "file_extension": ".py",
   "mimetype": "text/x-python",
   "name": "python",
   "nbconvert_exporter": "python",
   "pygments_lexer": "ipython3",
   "version": "3.12.7"
  }
 },
 "nbformat": 4,
 "nbformat_minor": 5
}
